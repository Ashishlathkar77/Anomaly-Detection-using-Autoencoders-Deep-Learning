{
  "nbformat": 4,
  "nbformat_minor": 0,
  "metadata": {
    "colab": {
      "provenance": []
    },
    "kernelspec": {
      "name": "python3",
      "display_name": "Python 3"
    },
    "language_info": {
      "name": "python"
    }
  },
  "cells": [
    {
      "cell_type": "code",
      "execution_count": 1,
      "metadata": {
        "id": "tFRFxDGhysZs"
      },
      "outputs": [],
      "source": [
        "import pandas as pd\n",
        "\n",
        "# Reading the data\n",
        "data = pd.read_csv(\"/content/creditcard (1).csv\")"
      ]
    },
    {
      "cell_type": "code",
      "source": [
        "data.head()"
      ],
      "metadata": {
        "colab": {
          "base_uri": "https://localhost:8080/",
          "height": 255
        },
        "id": "YhA9tpvPy3EH",
        "outputId": "73a32bac-e9c0-4f88-affc-9248833851ff"
      },
      "execution_count": 2,
      "outputs": [
        {
          "output_type": "execute_result",
          "data": {
            "text/plain": [
              "   Time        V1        V2        V3        V4        V5        V6        V7  \\\n",
              "0     0 -1.359807 -0.072781  2.536347  1.378155 -0.338321  0.462388  0.239599   \n",
              "1     0  1.191857  0.266151  0.166480  0.448154  0.060018 -0.082361 -0.078803   \n",
              "2     1 -1.358354 -1.340163  1.773209  0.379780 -0.503198  1.800499  0.791461   \n",
              "3     1 -0.966272 -0.185226  1.792993 -0.863291 -0.010309  1.247203  0.237609   \n",
              "4     2 -1.158233  0.877737  1.548718  0.403034 -0.407193  0.095921  0.592941   \n",
              "\n",
              "         V8        V9  ...       V21       V22       V23       V24       V25  \\\n",
              "0  0.098698  0.363787  ... -0.018307  0.277838 -0.110474  0.066928  0.128539   \n",
              "1  0.085102 -0.255425  ... -0.225775 -0.638672  0.101288 -0.339846  0.167170   \n",
              "2  0.247676 -1.514654  ...  0.247998  0.771679  0.909412 -0.689281 -0.327642   \n",
              "3  0.377436 -1.387024  ... -0.108300  0.005274 -0.190321 -1.175575  0.647376   \n",
              "4 -0.270533  0.817739  ... -0.009431  0.798278 -0.137458  0.141267 -0.206010   \n",
              "\n",
              "        V26       V27       V28  Amount  Class  \n",
              "0 -0.189115  0.133558 -0.021053  149.62      0  \n",
              "1  0.125895 -0.008983  0.014724    2.69      0  \n",
              "2 -0.139097 -0.055353 -0.059752  378.66      0  \n",
              "3 -0.221929  0.062723  0.061458  123.50      0  \n",
              "4  0.502292  0.219422  0.215153   69.99      0  \n",
              "\n",
              "[5 rows x 31 columns]"
            ],
            "text/html": [
              "\n",
              "  <div id=\"df-f92bfec9-293a-44f2-baa1-0832f8575c8a\" class=\"colab-df-container\">\n",
              "    <div>\n",
              "<style scoped>\n",
              "    .dataframe tbody tr th:only-of-type {\n",
              "        vertical-align: middle;\n",
              "    }\n",
              "\n",
              "    .dataframe tbody tr th {\n",
              "        vertical-align: top;\n",
              "    }\n",
              "\n",
              "    .dataframe thead th {\n",
              "        text-align: right;\n",
              "    }\n",
              "</style>\n",
              "<table border=\"1\" class=\"dataframe\">\n",
              "  <thead>\n",
              "    <tr style=\"text-align: right;\">\n",
              "      <th></th>\n",
              "      <th>Time</th>\n",
              "      <th>V1</th>\n",
              "      <th>V2</th>\n",
              "      <th>V3</th>\n",
              "      <th>V4</th>\n",
              "      <th>V5</th>\n",
              "      <th>V6</th>\n",
              "      <th>V7</th>\n",
              "      <th>V8</th>\n",
              "      <th>V9</th>\n",
              "      <th>...</th>\n",
              "      <th>V21</th>\n",
              "      <th>V22</th>\n",
              "      <th>V23</th>\n",
              "      <th>V24</th>\n",
              "      <th>V25</th>\n",
              "      <th>V26</th>\n",
              "      <th>V27</th>\n",
              "      <th>V28</th>\n",
              "      <th>Amount</th>\n",
              "      <th>Class</th>\n",
              "    </tr>\n",
              "  </thead>\n",
              "  <tbody>\n",
              "    <tr>\n",
              "      <th>0</th>\n",
              "      <td>0</td>\n",
              "      <td>-1.359807</td>\n",
              "      <td>-0.072781</td>\n",
              "      <td>2.536347</td>\n",
              "      <td>1.378155</td>\n",
              "      <td>-0.338321</td>\n",
              "      <td>0.462388</td>\n",
              "      <td>0.239599</td>\n",
              "      <td>0.098698</td>\n",
              "      <td>0.363787</td>\n",
              "      <td>...</td>\n",
              "      <td>-0.018307</td>\n",
              "      <td>0.277838</td>\n",
              "      <td>-0.110474</td>\n",
              "      <td>0.066928</td>\n",
              "      <td>0.128539</td>\n",
              "      <td>-0.189115</td>\n",
              "      <td>0.133558</td>\n",
              "      <td>-0.021053</td>\n",
              "      <td>149.62</td>\n",
              "      <td>0</td>\n",
              "    </tr>\n",
              "    <tr>\n",
              "      <th>1</th>\n",
              "      <td>0</td>\n",
              "      <td>1.191857</td>\n",
              "      <td>0.266151</td>\n",
              "      <td>0.166480</td>\n",
              "      <td>0.448154</td>\n",
              "      <td>0.060018</td>\n",
              "      <td>-0.082361</td>\n",
              "      <td>-0.078803</td>\n",
              "      <td>0.085102</td>\n",
              "      <td>-0.255425</td>\n",
              "      <td>...</td>\n",
              "      <td>-0.225775</td>\n",
              "      <td>-0.638672</td>\n",
              "      <td>0.101288</td>\n",
              "      <td>-0.339846</td>\n",
              "      <td>0.167170</td>\n",
              "      <td>0.125895</td>\n",
              "      <td>-0.008983</td>\n",
              "      <td>0.014724</td>\n",
              "      <td>2.69</td>\n",
              "      <td>0</td>\n",
              "    </tr>\n",
              "    <tr>\n",
              "      <th>2</th>\n",
              "      <td>1</td>\n",
              "      <td>-1.358354</td>\n",
              "      <td>-1.340163</td>\n",
              "      <td>1.773209</td>\n",
              "      <td>0.379780</td>\n",
              "      <td>-0.503198</td>\n",
              "      <td>1.800499</td>\n",
              "      <td>0.791461</td>\n",
              "      <td>0.247676</td>\n",
              "      <td>-1.514654</td>\n",
              "      <td>...</td>\n",
              "      <td>0.247998</td>\n",
              "      <td>0.771679</td>\n",
              "      <td>0.909412</td>\n",
              "      <td>-0.689281</td>\n",
              "      <td>-0.327642</td>\n",
              "      <td>-0.139097</td>\n",
              "      <td>-0.055353</td>\n",
              "      <td>-0.059752</td>\n",
              "      <td>378.66</td>\n",
              "      <td>0</td>\n",
              "    </tr>\n",
              "    <tr>\n",
              "      <th>3</th>\n",
              "      <td>1</td>\n",
              "      <td>-0.966272</td>\n",
              "      <td>-0.185226</td>\n",
              "      <td>1.792993</td>\n",
              "      <td>-0.863291</td>\n",
              "      <td>-0.010309</td>\n",
              "      <td>1.247203</td>\n",
              "      <td>0.237609</td>\n",
              "      <td>0.377436</td>\n",
              "      <td>-1.387024</td>\n",
              "      <td>...</td>\n",
              "      <td>-0.108300</td>\n",
              "      <td>0.005274</td>\n",
              "      <td>-0.190321</td>\n",
              "      <td>-1.175575</td>\n",
              "      <td>0.647376</td>\n",
              "      <td>-0.221929</td>\n",
              "      <td>0.062723</td>\n",
              "      <td>0.061458</td>\n",
              "      <td>123.50</td>\n",
              "      <td>0</td>\n",
              "    </tr>\n",
              "    <tr>\n",
              "      <th>4</th>\n",
              "      <td>2</td>\n",
              "      <td>-1.158233</td>\n",
              "      <td>0.877737</td>\n",
              "      <td>1.548718</td>\n",
              "      <td>0.403034</td>\n",
              "      <td>-0.407193</td>\n",
              "      <td>0.095921</td>\n",
              "      <td>0.592941</td>\n",
              "      <td>-0.270533</td>\n",
              "      <td>0.817739</td>\n",
              "      <td>...</td>\n",
              "      <td>-0.009431</td>\n",
              "      <td>0.798278</td>\n",
              "      <td>-0.137458</td>\n",
              "      <td>0.141267</td>\n",
              "      <td>-0.206010</td>\n",
              "      <td>0.502292</td>\n",
              "      <td>0.219422</td>\n",
              "      <td>0.215153</td>\n",
              "      <td>69.99</td>\n",
              "      <td>0</td>\n",
              "    </tr>\n",
              "  </tbody>\n",
              "</table>\n",
              "<p>5 rows × 31 columns</p>\n",
              "</div>\n",
              "    <div class=\"colab-df-buttons\">\n",
              "\n",
              "  <div class=\"colab-df-container\">\n",
              "    <button class=\"colab-df-convert\" onclick=\"convertToInteractive('df-f92bfec9-293a-44f2-baa1-0832f8575c8a')\"\n",
              "            title=\"Convert this dataframe to an interactive table.\"\n",
              "            style=\"display:none;\">\n",
              "\n",
              "  <svg xmlns=\"http://www.w3.org/2000/svg\" height=\"24px\" viewBox=\"0 -960 960 960\">\n",
              "    <path d=\"M120-120v-720h720v720H120Zm60-500h600v-160H180v160Zm220 220h160v-160H400v160Zm0 220h160v-160H400v160ZM180-400h160v-160H180v160Zm440 0h160v-160H620v160ZM180-180h160v-160H180v160Zm440 0h160v-160H620v160Z\"/>\n",
              "  </svg>\n",
              "    </button>\n",
              "\n",
              "  <style>\n",
              "    .colab-df-container {\n",
              "      display:flex;\n",
              "      gap: 12px;\n",
              "    }\n",
              "\n",
              "    .colab-df-convert {\n",
              "      background-color: #E8F0FE;\n",
              "      border: none;\n",
              "      border-radius: 50%;\n",
              "      cursor: pointer;\n",
              "      display: none;\n",
              "      fill: #1967D2;\n",
              "      height: 32px;\n",
              "      padding: 0 0 0 0;\n",
              "      width: 32px;\n",
              "    }\n",
              "\n",
              "    .colab-df-convert:hover {\n",
              "      background-color: #E2EBFA;\n",
              "      box-shadow: 0px 1px 2px rgba(60, 64, 67, 0.3), 0px 1px 3px 1px rgba(60, 64, 67, 0.15);\n",
              "      fill: #174EA6;\n",
              "    }\n",
              "\n",
              "    .colab-df-buttons div {\n",
              "      margin-bottom: 4px;\n",
              "    }\n",
              "\n",
              "    [theme=dark] .colab-df-convert {\n",
              "      background-color: #3B4455;\n",
              "      fill: #D2E3FC;\n",
              "    }\n",
              "\n",
              "    [theme=dark] .colab-df-convert:hover {\n",
              "      background-color: #434B5C;\n",
              "      box-shadow: 0px 1px 3px 1px rgba(0, 0, 0, 0.15);\n",
              "      filter: drop-shadow(0px 1px 2px rgba(0, 0, 0, 0.3));\n",
              "      fill: #FFFFFF;\n",
              "    }\n",
              "  </style>\n",
              "\n",
              "    <script>\n",
              "      const buttonEl =\n",
              "        document.querySelector('#df-f92bfec9-293a-44f2-baa1-0832f8575c8a button.colab-df-convert');\n",
              "      buttonEl.style.display =\n",
              "        google.colab.kernel.accessAllowed ? 'block' : 'none';\n",
              "\n",
              "      async function convertToInteractive(key) {\n",
              "        const element = document.querySelector('#df-f92bfec9-293a-44f2-baa1-0832f8575c8a');\n",
              "        const dataTable =\n",
              "          await google.colab.kernel.invokeFunction('convertToInteractive',\n",
              "                                                    [key], {});\n",
              "        if (!dataTable) return;\n",
              "\n",
              "        const docLinkHtml = 'Like what you see? Visit the ' +\n",
              "          '<a target=\"_blank\" href=https://colab.research.google.com/notebooks/data_table.ipynb>data table notebook</a>'\n",
              "          + ' to learn more about interactive tables.';\n",
              "        element.innerHTML = '';\n",
              "        dataTable['output_type'] = 'display_data';\n",
              "        await google.colab.output.renderOutput(dataTable, element);\n",
              "        const docLink = document.createElement('div');\n",
              "        docLink.innerHTML = docLinkHtml;\n",
              "        element.appendChild(docLink);\n",
              "      }\n",
              "    </script>\n",
              "  </div>\n",
              "\n",
              "\n",
              "<div id=\"df-6f6074c0-fb29-4feb-95aa-7eeda19e721d\">\n",
              "  <button class=\"colab-df-quickchart\" onclick=\"quickchart('df-6f6074c0-fb29-4feb-95aa-7eeda19e721d')\"\n",
              "            title=\"Suggest charts\"\n",
              "            style=\"display:none;\">\n",
              "\n",
              "<svg xmlns=\"http://www.w3.org/2000/svg\" height=\"24px\"viewBox=\"0 0 24 24\"\n",
              "     width=\"24px\">\n",
              "    <g>\n",
              "        <path d=\"M19 3H5c-1.1 0-2 .9-2 2v14c0 1.1.9 2 2 2h14c1.1 0 2-.9 2-2V5c0-1.1-.9-2-2-2zM9 17H7v-7h2v7zm4 0h-2V7h2v10zm4 0h-2v-4h2v4z\"/>\n",
              "    </g>\n",
              "</svg>\n",
              "  </button>\n",
              "\n",
              "<style>\n",
              "  .colab-df-quickchart {\n",
              "      --bg-color: #E8F0FE;\n",
              "      --fill-color: #1967D2;\n",
              "      --hover-bg-color: #E2EBFA;\n",
              "      --hover-fill-color: #174EA6;\n",
              "      --disabled-fill-color: #AAA;\n",
              "      --disabled-bg-color: #DDD;\n",
              "  }\n",
              "\n",
              "  [theme=dark] .colab-df-quickchart {\n",
              "      --bg-color: #3B4455;\n",
              "      --fill-color: #D2E3FC;\n",
              "      --hover-bg-color: #434B5C;\n",
              "      --hover-fill-color: #FFFFFF;\n",
              "      --disabled-bg-color: #3B4455;\n",
              "      --disabled-fill-color: #666;\n",
              "  }\n",
              "\n",
              "  .colab-df-quickchart {\n",
              "    background-color: var(--bg-color);\n",
              "    border: none;\n",
              "    border-radius: 50%;\n",
              "    cursor: pointer;\n",
              "    display: none;\n",
              "    fill: var(--fill-color);\n",
              "    height: 32px;\n",
              "    padding: 0;\n",
              "    width: 32px;\n",
              "  }\n",
              "\n",
              "  .colab-df-quickchart:hover {\n",
              "    background-color: var(--hover-bg-color);\n",
              "    box-shadow: 0 1px 2px rgba(60, 64, 67, 0.3), 0 1px 3px 1px rgba(60, 64, 67, 0.15);\n",
              "    fill: var(--button-hover-fill-color);\n",
              "  }\n",
              "\n",
              "  .colab-df-quickchart-complete:disabled,\n",
              "  .colab-df-quickchart-complete:disabled:hover {\n",
              "    background-color: var(--disabled-bg-color);\n",
              "    fill: var(--disabled-fill-color);\n",
              "    box-shadow: none;\n",
              "  }\n",
              "\n",
              "  .colab-df-spinner {\n",
              "    border: 2px solid var(--fill-color);\n",
              "    border-color: transparent;\n",
              "    border-bottom-color: var(--fill-color);\n",
              "    animation:\n",
              "      spin 1s steps(1) infinite;\n",
              "  }\n",
              "\n",
              "  @keyframes spin {\n",
              "    0% {\n",
              "      border-color: transparent;\n",
              "      border-bottom-color: var(--fill-color);\n",
              "      border-left-color: var(--fill-color);\n",
              "    }\n",
              "    20% {\n",
              "      border-color: transparent;\n",
              "      border-left-color: var(--fill-color);\n",
              "      border-top-color: var(--fill-color);\n",
              "    }\n",
              "    30% {\n",
              "      border-color: transparent;\n",
              "      border-left-color: var(--fill-color);\n",
              "      border-top-color: var(--fill-color);\n",
              "      border-right-color: var(--fill-color);\n",
              "    }\n",
              "    40% {\n",
              "      border-color: transparent;\n",
              "      border-right-color: var(--fill-color);\n",
              "      border-top-color: var(--fill-color);\n",
              "    }\n",
              "    60% {\n",
              "      border-color: transparent;\n",
              "      border-right-color: var(--fill-color);\n",
              "    }\n",
              "    80% {\n",
              "      border-color: transparent;\n",
              "      border-right-color: var(--fill-color);\n",
              "      border-bottom-color: var(--fill-color);\n",
              "    }\n",
              "    90% {\n",
              "      border-color: transparent;\n",
              "      border-bottom-color: var(--fill-color);\n",
              "    }\n",
              "  }\n",
              "</style>\n",
              "\n",
              "  <script>\n",
              "    async function quickchart(key) {\n",
              "      const quickchartButtonEl =\n",
              "        document.querySelector('#' + key + ' button');\n",
              "      quickchartButtonEl.disabled = true;  // To prevent multiple clicks.\n",
              "      quickchartButtonEl.classList.add('colab-df-spinner');\n",
              "      try {\n",
              "        const charts = await google.colab.kernel.invokeFunction(\n",
              "            'suggestCharts', [key], {});\n",
              "      } catch (error) {\n",
              "        console.error('Error during call to suggestCharts:', error);\n",
              "      }\n",
              "      quickchartButtonEl.classList.remove('colab-df-spinner');\n",
              "      quickchartButtonEl.classList.add('colab-df-quickchart-complete');\n",
              "    }\n",
              "    (() => {\n",
              "      let quickchartButtonEl =\n",
              "        document.querySelector('#df-6f6074c0-fb29-4feb-95aa-7eeda19e721d button');\n",
              "      quickchartButtonEl.style.display =\n",
              "        google.colab.kernel.accessAllowed ? 'block' : 'none';\n",
              "    })();\n",
              "  </script>\n",
              "</div>\n",
              "    </div>\n",
              "  </div>\n"
            ]
          },
          "metadata": {},
          "execution_count": 2
        }
      ]
    },
    {
      "cell_type": "code",
      "source": [
        "data['Class'].value_counts()"
      ],
      "metadata": {
        "colab": {
          "base_uri": "https://localhost:8080/"
        },
        "id": "XxHhlLCjzmYL",
        "outputId": "0a4cecb9-04e6-4711-aeae-c25e426ad2c5"
      },
      "execution_count": 3,
      "outputs": [
        {
          "output_type": "execute_result",
          "data": {
            "text/plain": [
              "0    39895\n",
              "1      104\n",
              "Name: Class, dtype: int64"
            ]
          },
          "metadata": {},
          "execution_count": 3
        }
      ]
    },
    {
      "cell_type": "code",
      "source": [
        "data.isnull().sum()"
      ],
      "metadata": {
        "colab": {
          "base_uri": "https://localhost:8080/"
        },
        "id": "ya1U8jVo0QXa",
        "outputId": "c4f8b1e9-dcb7-4ec6-e622-0503e7dd2560"
      },
      "execution_count": 4,
      "outputs": [
        {
          "output_type": "execute_result",
          "data": {
            "text/plain": [
              "Time      0\n",
              "V1        0\n",
              "V2        0\n",
              "V3        0\n",
              "V4        0\n",
              "V5        0\n",
              "V6        0\n",
              "V7        0\n",
              "V8        0\n",
              "V9        0\n",
              "V10       0\n",
              "V11       0\n",
              "V12       0\n",
              "V13       0\n",
              "V14       0\n",
              "V15       0\n",
              "V16       0\n",
              "V17       0\n",
              "V18       0\n",
              "V19       0\n",
              "V20       0\n",
              "V21       0\n",
              "V22       0\n",
              "V23       0\n",
              "V24       0\n",
              "V25       0\n",
              "V26       0\n",
              "V27       0\n",
              "V28       0\n",
              "Amount    0\n",
              "Class     0\n",
              "dtype: int64"
            ]
          },
          "metadata": {},
          "execution_count": 4
        }
      ]
    },
    {
      "cell_type": "code",
      "source": [
        "import matplotlib.pyplot as plt\n",
        "import seaborn as sns\n",
        "\n",
        "data.info()"
      ],
      "metadata": {
        "colab": {
          "base_uri": "https://localhost:8080/"
        },
        "id": "C3SHVOXN0Tcj",
        "outputId": "729b6def-bae7-48fc-fa47-2e5d7bcdb2ba"
      },
      "execution_count": 5,
      "outputs": [
        {
          "output_type": "stream",
          "name": "stdout",
          "text": [
            "<class 'pandas.core.frame.DataFrame'>\n",
            "RangeIndex: 39999 entries, 0 to 39998\n",
            "Data columns (total 31 columns):\n",
            " #   Column  Non-Null Count  Dtype  \n",
            "---  ------  --------------  -----  \n",
            " 0   Time    39999 non-null  int64  \n",
            " 1   V1      39999 non-null  float64\n",
            " 2   V2      39999 non-null  float64\n",
            " 3   V3      39999 non-null  float64\n",
            " 4   V4      39999 non-null  float64\n",
            " 5   V5      39999 non-null  float64\n",
            " 6   V6      39999 non-null  float64\n",
            " 7   V7      39999 non-null  float64\n",
            " 8   V8      39999 non-null  float64\n",
            " 9   V9      39999 non-null  float64\n",
            " 10  V10     39999 non-null  float64\n",
            " 11  V11     39999 non-null  float64\n",
            " 12  V12     39999 non-null  float64\n",
            " 13  V13     39999 non-null  float64\n",
            " 14  V14     39999 non-null  float64\n",
            " 15  V15     39999 non-null  float64\n",
            " 16  V16     39999 non-null  float64\n",
            " 17  V17     39999 non-null  float64\n",
            " 18  V18     39999 non-null  float64\n",
            " 19  V19     39999 non-null  float64\n",
            " 20  V20     39999 non-null  float64\n",
            " 21  V21     39999 non-null  float64\n",
            " 22  V22     39999 non-null  float64\n",
            " 23  V23     39999 non-null  float64\n",
            " 24  V24     39999 non-null  float64\n",
            " 25  V25     39999 non-null  float64\n",
            " 26  V26     39999 non-null  float64\n",
            " 27  V27     39999 non-null  float64\n",
            " 28  V28     39999 non-null  float64\n",
            " 29  Amount  39999 non-null  float64\n",
            " 30  Class   39999 non-null  int64  \n",
            "dtypes: float64(29), int64(2)\n",
            "memory usage: 9.5 MB\n"
          ]
        }
      ]
    },
    {
      "cell_type": "code",
      "source": [
        "data.describe()"
      ],
      "metadata": {
        "colab": {
          "base_uri": "https://localhost:8080/",
          "height": 349
        },
        "id": "uV1v7C3PiCeu",
        "outputId": "528bdc72-b8cf-4b26-8517-185d99f22844"
      },
      "execution_count": 6,
      "outputs": [
        {
          "output_type": "execute_result",
          "data": {
            "text/plain": [
              "               Time            V1            V2            V3            V4  \\\n",
              "count  39999.000000  39999.000000  39999.000000  39999.000000  39999.000000   \n",
              "mean   25610.013575     -0.215339      0.049011      0.713363      0.188724   \n",
              "std    12640.690813      1.851804      1.589888      1.504371      1.401278   \n",
              "min        0.000000    -56.407510    -72.715728    -31.103685     -5.172595   \n",
              "25%    15012.500000     -0.966899     -0.525899      0.233143     -0.719135   \n",
              "50%    30717.000000     -0.233853      0.100879      0.816466      0.184194   \n",
              "75%    35731.000000      1.160699      0.743530      1.446943      1.070165   \n",
              "max    40052.000000      1.960497     16.713389      4.101716     16.491217   \n",
              "\n",
              "                 V5            V6            V7            V8            V9  \\\n",
              "count  39999.000000  39999.000000  39999.000000  39999.000000  39999.000000   \n",
              "mean      -0.230691      0.099902     -0.112919      0.041856      0.210467   \n",
              "std        1.388509      1.310725      1.245639      1.221428      1.224936   \n",
              "min      -42.147898    -26.160506    -26.548144    -41.484823     -7.175097   \n",
              "25%       -0.835861     -0.639038     -0.597555     -0.152354     -0.558778   \n",
              "50%       -0.267798     -0.158477     -0.073647      0.048639      0.088084   \n",
              "75%        0.296214      0.486446      0.434075      0.315397      0.926464   \n",
              "max       34.801666     22.529298     36.677268     20.007208     10.392889   \n",
              "\n",
              "       ...           V21           V22           V23           V24  \\\n",
              "count  ...  39999.000000  39999.000000  39999.000000  39999.000000   \n",
              "mean   ...     -0.029863     -0.112518     -0.039832      0.006941   \n",
              "std    ...      0.750636      0.638002      0.553135      0.593328   \n",
              "min    ...    -20.262054     -8.593642    -26.751119     -2.836627   \n",
              "25%    ...     -0.236659     -0.534723     -0.178421     -0.326019   \n",
              "50%    ...     -0.077045     -0.087277     -0.051521      0.060591   \n",
              "75%    ...      0.100313      0.298913      0.077012      0.399459   \n",
              "max    ...     22.614889      5.805795     17.297845      4.014444   \n",
              "\n",
              "                V25           V26           V27           V28        Amount  \\\n",
              "count  39999.000000  39999.000000  39999.000000  39999.000000  39999.000000   \n",
              "mean       0.136103      0.023247      0.008052      0.004949     87.590572   \n",
              "std        0.436302      0.504738      0.387377      0.342639    234.613928   \n",
              "min       -7.495741     -1.438650     -8.567638     -9.617915      0.000000   \n",
              "25%       -0.128094     -0.330419     -0.063187     -0.006899      7.365000   \n",
              "50%        0.176002     -0.063410      0.008403      0.021491     23.660000   \n",
              "75%        0.420585      0.304393      0.085124      0.076012     79.070000   \n",
              "max        5.525093      3.517346     11.135740     33.847808   7879.420000   \n",
              "\n",
              "              Class  \n",
              "count  39999.000000  \n",
              "mean       0.002600  \n",
              "std        0.050925  \n",
              "min        0.000000  \n",
              "25%        0.000000  \n",
              "50%        0.000000  \n",
              "75%        0.000000  \n",
              "max        1.000000  \n",
              "\n",
              "[8 rows x 31 columns]"
            ],
            "text/html": [
              "\n",
              "  <div id=\"df-51682dd2-351f-4ab2-aa96-131cb73fbd63\" class=\"colab-df-container\">\n",
              "    <div>\n",
              "<style scoped>\n",
              "    .dataframe tbody tr th:only-of-type {\n",
              "        vertical-align: middle;\n",
              "    }\n",
              "\n",
              "    .dataframe tbody tr th {\n",
              "        vertical-align: top;\n",
              "    }\n",
              "\n",
              "    .dataframe thead th {\n",
              "        text-align: right;\n",
              "    }\n",
              "</style>\n",
              "<table border=\"1\" class=\"dataframe\">\n",
              "  <thead>\n",
              "    <tr style=\"text-align: right;\">\n",
              "      <th></th>\n",
              "      <th>Time</th>\n",
              "      <th>V1</th>\n",
              "      <th>V2</th>\n",
              "      <th>V3</th>\n",
              "      <th>V4</th>\n",
              "      <th>V5</th>\n",
              "      <th>V6</th>\n",
              "      <th>V7</th>\n",
              "      <th>V8</th>\n",
              "      <th>V9</th>\n",
              "      <th>...</th>\n",
              "      <th>V21</th>\n",
              "      <th>V22</th>\n",
              "      <th>V23</th>\n",
              "      <th>V24</th>\n",
              "      <th>V25</th>\n",
              "      <th>V26</th>\n",
              "      <th>V27</th>\n",
              "      <th>V28</th>\n",
              "      <th>Amount</th>\n",
              "      <th>Class</th>\n",
              "    </tr>\n",
              "  </thead>\n",
              "  <tbody>\n",
              "    <tr>\n",
              "      <th>count</th>\n",
              "      <td>39999.000000</td>\n",
              "      <td>39999.000000</td>\n",
              "      <td>39999.000000</td>\n",
              "      <td>39999.000000</td>\n",
              "      <td>39999.000000</td>\n",
              "      <td>39999.000000</td>\n",
              "      <td>39999.000000</td>\n",
              "      <td>39999.000000</td>\n",
              "      <td>39999.000000</td>\n",
              "      <td>39999.000000</td>\n",
              "      <td>...</td>\n",
              "      <td>39999.000000</td>\n",
              "      <td>39999.000000</td>\n",
              "      <td>39999.000000</td>\n",
              "      <td>39999.000000</td>\n",
              "      <td>39999.000000</td>\n",
              "      <td>39999.000000</td>\n",
              "      <td>39999.000000</td>\n",
              "      <td>39999.000000</td>\n",
              "      <td>39999.000000</td>\n",
              "      <td>39999.000000</td>\n",
              "    </tr>\n",
              "    <tr>\n",
              "      <th>mean</th>\n",
              "      <td>25610.013575</td>\n",
              "      <td>-0.215339</td>\n",
              "      <td>0.049011</td>\n",
              "      <td>0.713363</td>\n",
              "      <td>0.188724</td>\n",
              "      <td>-0.230691</td>\n",
              "      <td>0.099902</td>\n",
              "      <td>-0.112919</td>\n",
              "      <td>0.041856</td>\n",
              "      <td>0.210467</td>\n",
              "      <td>...</td>\n",
              "      <td>-0.029863</td>\n",
              "      <td>-0.112518</td>\n",
              "      <td>-0.039832</td>\n",
              "      <td>0.006941</td>\n",
              "      <td>0.136103</td>\n",
              "      <td>0.023247</td>\n",
              "      <td>0.008052</td>\n",
              "      <td>0.004949</td>\n",
              "      <td>87.590572</td>\n",
              "      <td>0.002600</td>\n",
              "    </tr>\n",
              "    <tr>\n",
              "      <th>std</th>\n",
              "      <td>12640.690813</td>\n",
              "      <td>1.851804</td>\n",
              "      <td>1.589888</td>\n",
              "      <td>1.504371</td>\n",
              "      <td>1.401278</td>\n",
              "      <td>1.388509</td>\n",
              "      <td>1.310725</td>\n",
              "      <td>1.245639</td>\n",
              "      <td>1.221428</td>\n",
              "      <td>1.224936</td>\n",
              "      <td>...</td>\n",
              "      <td>0.750636</td>\n",
              "      <td>0.638002</td>\n",
              "      <td>0.553135</td>\n",
              "      <td>0.593328</td>\n",
              "      <td>0.436302</td>\n",
              "      <td>0.504738</td>\n",
              "      <td>0.387377</td>\n",
              "      <td>0.342639</td>\n",
              "      <td>234.613928</td>\n",
              "      <td>0.050925</td>\n",
              "    </tr>\n",
              "    <tr>\n",
              "      <th>min</th>\n",
              "      <td>0.000000</td>\n",
              "      <td>-56.407510</td>\n",
              "      <td>-72.715728</td>\n",
              "      <td>-31.103685</td>\n",
              "      <td>-5.172595</td>\n",
              "      <td>-42.147898</td>\n",
              "      <td>-26.160506</td>\n",
              "      <td>-26.548144</td>\n",
              "      <td>-41.484823</td>\n",
              "      <td>-7.175097</td>\n",
              "      <td>...</td>\n",
              "      <td>-20.262054</td>\n",
              "      <td>-8.593642</td>\n",
              "      <td>-26.751119</td>\n",
              "      <td>-2.836627</td>\n",
              "      <td>-7.495741</td>\n",
              "      <td>-1.438650</td>\n",
              "      <td>-8.567638</td>\n",
              "      <td>-9.617915</td>\n",
              "      <td>0.000000</td>\n",
              "      <td>0.000000</td>\n",
              "    </tr>\n",
              "    <tr>\n",
              "      <th>25%</th>\n",
              "      <td>15012.500000</td>\n",
              "      <td>-0.966899</td>\n",
              "      <td>-0.525899</td>\n",
              "      <td>0.233143</td>\n",
              "      <td>-0.719135</td>\n",
              "      <td>-0.835861</td>\n",
              "      <td>-0.639038</td>\n",
              "      <td>-0.597555</td>\n",
              "      <td>-0.152354</td>\n",
              "      <td>-0.558778</td>\n",
              "      <td>...</td>\n",
              "      <td>-0.236659</td>\n",
              "      <td>-0.534723</td>\n",
              "      <td>-0.178421</td>\n",
              "      <td>-0.326019</td>\n",
              "      <td>-0.128094</td>\n",
              "      <td>-0.330419</td>\n",
              "      <td>-0.063187</td>\n",
              "      <td>-0.006899</td>\n",
              "      <td>7.365000</td>\n",
              "      <td>0.000000</td>\n",
              "    </tr>\n",
              "    <tr>\n",
              "      <th>50%</th>\n",
              "      <td>30717.000000</td>\n",
              "      <td>-0.233853</td>\n",
              "      <td>0.100879</td>\n",
              "      <td>0.816466</td>\n",
              "      <td>0.184194</td>\n",
              "      <td>-0.267798</td>\n",
              "      <td>-0.158477</td>\n",
              "      <td>-0.073647</td>\n",
              "      <td>0.048639</td>\n",
              "      <td>0.088084</td>\n",
              "      <td>...</td>\n",
              "      <td>-0.077045</td>\n",
              "      <td>-0.087277</td>\n",
              "      <td>-0.051521</td>\n",
              "      <td>0.060591</td>\n",
              "      <td>0.176002</td>\n",
              "      <td>-0.063410</td>\n",
              "      <td>0.008403</td>\n",
              "      <td>0.021491</td>\n",
              "      <td>23.660000</td>\n",
              "      <td>0.000000</td>\n",
              "    </tr>\n",
              "    <tr>\n",
              "      <th>75%</th>\n",
              "      <td>35731.000000</td>\n",
              "      <td>1.160699</td>\n",
              "      <td>0.743530</td>\n",
              "      <td>1.446943</td>\n",
              "      <td>1.070165</td>\n",
              "      <td>0.296214</td>\n",
              "      <td>0.486446</td>\n",
              "      <td>0.434075</td>\n",
              "      <td>0.315397</td>\n",
              "      <td>0.926464</td>\n",
              "      <td>...</td>\n",
              "      <td>0.100313</td>\n",
              "      <td>0.298913</td>\n",
              "      <td>0.077012</td>\n",
              "      <td>0.399459</td>\n",
              "      <td>0.420585</td>\n",
              "      <td>0.304393</td>\n",
              "      <td>0.085124</td>\n",
              "      <td>0.076012</td>\n",
              "      <td>79.070000</td>\n",
              "      <td>0.000000</td>\n",
              "    </tr>\n",
              "    <tr>\n",
              "      <th>max</th>\n",
              "      <td>40052.000000</td>\n",
              "      <td>1.960497</td>\n",
              "      <td>16.713389</td>\n",
              "      <td>4.101716</td>\n",
              "      <td>16.491217</td>\n",
              "      <td>34.801666</td>\n",
              "      <td>22.529298</td>\n",
              "      <td>36.677268</td>\n",
              "      <td>20.007208</td>\n",
              "      <td>10.392889</td>\n",
              "      <td>...</td>\n",
              "      <td>22.614889</td>\n",
              "      <td>5.805795</td>\n",
              "      <td>17.297845</td>\n",
              "      <td>4.014444</td>\n",
              "      <td>5.525093</td>\n",
              "      <td>3.517346</td>\n",
              "      <td>11.135740</td>\n",
              "      <td>33.847808</td>\n",
              "      <td>7879.420000</td>\n",
              "      <td>1.000000</td>\n",
              "    </tr>\n",
              "  </tbody>\n",
              "</table>\n",
              "<p>8 rows × 31 columns</p>\n",
              "</div>\n",
              "    <div class=\"colab-df-buttons\">\n",
              "\n",
              "  <div class=\"colab-df-container\">\n",
              "    <button class=\"colab-df-convert\" onclick=\"convertToInteractive('df-51682dd2-351f-4ab2-aa96-131cb73fbd63')\"\n",
              "            title=\"Convert this dataframe to an interactive table.\"\n",
              "            style=\"display:none;\">\n",
              "\n",
              "  <svg xmlns=\"http://www.w3.org/2000/svg\" height=\"24px\" viewBox=\"0 -960 960 960\">\n",
              "    <path d=\"M120-120v-720h720v720H120Zm60-500h600v-160H180v160Zm220 220h160v-160H400v160Zm0 220h160v-160H400v160ZM180-400h160v-160H180v160Zm440 0h160v-160H620v160ZM180-180h160v-160H180v160Zm440 0h160v-160H620v160Z\"/>\n",
              "  </svg>\n",
              "    </button>\n",
              "\n",
              "  <style>\n",
              "    .colab-df-container {\n",
              "      display:flex;\n",
              "      gap: 12px;\n",
              "    }\n",
              "\n",
              "    .colab-df-convert {\n",
              "      background-color: #E8F0FE;\n",
              "      border: none;\n",
              "      border-radius: 50%;\n",
              "      cursor: pointer;\n",
              "      display: none;\n",
              "      fill: #1967D2;\n",
              "      height: 32px;\n",
              "      padding: 0 0 0 0;\n",
              "      width: 32px;\n",
              "    }\n",
              "\n",
              "    .colab-df-convert:hover {\n",
              "      background-color: #E2EBFA;\n",
              "      box-shadow: 0px 1px 2px rgba(60, 64, 67, 0.3), 0px 1px 3px 1px rgba(60, 64, 67, 0.15);\n",
              "      fill: #174EA6;\n",
              "    }\n",
              "\n",
              "    .colab-df-buttons div {\n",
              "      margin-bottom: 4px;\n",
              "    }\n",
              "\n",
              "    [theme=dark] .colab-df-convert {\n",
              "      background-color: #3B4455;\n",
              "      fill: #D2E3FC;\n",
              "    }\n",
              "\n",
              "    [theme=dark] .colab-df-convert:hover {\n",
              "      background-color: #434B5C;\n",
              "      box-shadow: 0px 1px 3px 1px rgba(0, 0, 0, 0.15);\n",
              "      filter: drop-shadow(0px 1px 2px rgba(0, 0, 0, 0.3));\n",
              "      fill: #FFFFFF;\n",
              "    }\n",
              "  </style>\n",
              "\n",
              "    <script>\n",
              "      const buttonEl =\n",
              "        document.querySelector('#df-51682dd2-351f-4ab2-aa96-131cb73fbd63 button.colab-df-convert');\n",
              "      buttonEl.style.display =\n",
              "        google.colab.kernel.accessAllowed ? 'block' : 'none';\n",
              "\n",
              "      async function convertToInteractive(key) {\n",
              "        const element = document.querySelector('#df-51682dd2-351f-4ab2-aa96-131cb73fbd63');\n",
              "        const dataTable =\n",
              "          await google.colab.kernel.invokeFunction('convertToInteractive',\n",
              "                                                    [key], {});\n",
              "        if (!dataTable) return;\n",
              "\n",
              "        const docLinkHtml = 'Like what you see? Visit the ' +\n",
              "          '<a target=\"_blank\" href=https://colab.research.google.com/notebooks/data_table.ipynb>data table notebook</a>'\n",
              "          + ' to learn more about interactive tables.';\n",
              "        element.innerHTML = '';\n",
              "        dataTable['output_type'] = 'display_data';\n",
              "        await google.colab.output.renderOutput(dataTable, element);\n",
              "        const docLink = document.createElement('div');\n",
              "        docLink.innerHTML = docLinkHtml;\n",
              "        element.appendChild(docLink);\n",
              "      }\n",
              "    </script>\n",
              "  </div>\n",
              "\n",
              "\n",
              "<div id=\"df-66bed3a1-0a9f-470f-a259-e9cd7d4626e7\">\n",
              "  <button class=\"colab-df-quickchart\" onclick=\"quickchart('df-66bed3a1-0a9f-470f-a259-e9cd7d4626e7')\"\n",
              "            title=\"Suggest charts\"\n",
              "            style=\"display:none;\">\n",
              "\n",
              "<svg xmlns=\"http://www.w3.org/2000/svg\" height=\"24px\"viewBox=\"0 0 24 24\"\n",
              "     width=\"24px\">\n",
              "    <g>\n",
              "        <path d=\"M19 3H5c-1.1 0-2 .9-2 2v14c0 1.1.9 2 2 2h14c1.1 0 2-.9 2-2V5c0-1.1-.9-2-2-2zM9 17H7v-7h2v7zm4 0h-2V7h2v10zm4 0h-2v-4h2v4z\"/>\n",
              "    </g>\n",
              "</svg>\n",
              "  </button>\n",
              "\n",
              "<style>\n",
              "  .colab-df-quickchart {\n",
              "      --bg-color: #E8F0FE;\n",
              "      --fill-color: #1967D2;\n",
              "      --hover-bg-color: #E2EBFA;\n",
              "      --hover-fill-color: #174EA6;\n",
              "      --disabled-fill-color: #AAA;\n",
              "      --disabled-bg-color: #DDD;\n",
              "  }\n",
              "\n",
              "  [theme=dark] .colab-df-quickchart {\n",
              "      --bg-color: #3B4455;\n",
              "      --fill-color: #D2E3FC;\n",
              "      --hover-bg-color: #434B5C;\n",
              "      --hover-fill-color: #FFFFFF;\n",
              "      --disabled-bg-color: #3B4455;\n",
              "      --disabled-fill-color: #666;\n",
              "  }\n",
              "\n",
              "  .colab-df-quickchart {\n",
              "    background-color: var(--bg-color);\n",
              "    border: none;\n",
              "    border-radius: 50%;\n",
              "    cursor: pointer;\n",
              "    display: none;\n",
              "    fill: var(--fill-color);\n",
              "    height: 32px;\n",
              "    padding: 0;\n",
              "    width: 32px;\n",
              "  }\n",
              "\n",
              "  .colab-df-quickchart:hover {\n",
              "    background-color: var(--hover-bg-color);\n",
              "    box-shadow: 0 1px 2px rgba(60, 64, 67, 0.3), 0 1px 3px 1px rgba(60, 64, 67, 0.15);\n",
              "    fill: var(--button-hover-fill-color);\n",
              "  }\n",
              "\n",
              "  .colab-df-quickchart-complete:disabled,\n",
              "  .colab-df-quickchart-complete:disabled:hover {\n",
              "    background-color: var(--disabled-bg-color);\n",
              "    fill: var(--disabled-fill-color);\n",
              "    box-shadow: none;\n",
              "  }\n",
              "\n",
              "  .colab-df-spinner {\n",
              "    border: 2px solid var(--fill-color);\n",
              "    border-color: transparent;\n",
              "    border-bottom-color: var(--fill-color);\n",
              "    animation:\n",
              "      spin 1s steps(1) infinite;\n",
              "  }\n",
              "\n",
              "  @keyframes spin {\n",
              "    0% {\n",
              "      border-color: transparent;\n",
              "      border-bottom-color: var(--fill-color);\n",
              "      border-left-color: var(--fill-color);\n",
              "    }\n",
              "    20% {\n",
              "      border-color: transparent;\n",
              "      border-left-color: var(--fill-color);\n",
              "      border-top-color: var(--fill-color);\n",
              "    }\n",
              "    30% {\n",
              "      border-color: transparent;\n",
              "      border-left-color: var(--fill-color);\n",
              "      border-top-color: var(--fill-color);\n",
              "      border-right-color: var(--fill-color);\n",
              "    }\n",
              "    40% {\n",
              "      border-color: transparent;\n",
              "      border-right-color: var(--fill-color);\n",
              "      border-top-color: var(--fill-color);\n",
              "    }\n",
              "    60% {\n",
              "      border-color: transparent;\n",
              "      border-right-color: var(--fill-color);\n",
              "    }\n",
              "    80% {\n",
              "      border-color: transparent;\n",
              "      border-right-color: var(--fill-color);\n",
              "      border-bottom-color: var(--fill-color);\n",
              "    }\n",
              "    90% {\n",
              "      border-color: transparent;\n",
              "      border-bottom-color: var(--fill-color);\n",
              "    }\n",
              "  }\n",
              "</style>\n",
              "\n",
              "  <script>\n",
              "    async function quickchart(key) {\n",
              "      const quickchartButtonEl =\n",
              "        document.querySelector('#' + key + ' button');\n",
              "      quickchartButtonEl.disabled = true;  // To prevent multiple clicks.\n",
              "      quickchartButtonEl.classList.add('colab-df-spinner');\n",
              "      try {\n",
              "        const charts = await google.colab.kernel.invokeFunction(\n",
              "            'suggestCharts', [key], {});\n",
              "      } catch (error) {\n",
              "        console.error('Error during call to suggestCharts:', error);\n",
              "      }\n",
              "      quickchartButtonEl.classList.remove('colab-df-spinner');\n",
              "      quickchartButtonEl.classList.add('colab-df-quickchart-complete');\n",
              "    }\n",
              "    (() => {\n",
              "      let quickchartButtonEl =\n",
              "        document.querySelector('#df-66bed3a1-0a9f-470f-a259-e9cd7d4626e7 button');\n",
              "      quickchartButtonEl.style.display =\n",
              "        google.colab.kernel.accessAllowed ? 'block' : 'none';\n",
              "    })();\n",
              "  </script>\n",
              "</div>\n",
              "    </div>\n",
              "  </div>\n"
            ]
          },
          "metadata": {},
          "execution_count": 6
        }
      ]
    },
    {
      "cell_type": "code",
      "source": [
        "sns.countplot(x = 'Class', data = data)\n",
        "plt.title('Class Distribution')\n",
        "plt.show()"
      ],
      "metadata": {
        "colab": {
          "base_uri": "https://localhost:8080/",
          "height": 472
        },
        "id": "zs5K0QediGZy",
        "outputId": "401900a9-6417-4947-ae82-efc97b07a25f"
      },
      "execution_count": 7,
      "outputs": [
        {
          "output_type": "display_data",
          "data": {
            "text/plain": [
              "<Figure size 640x480 with 1 Axes>"
            ],
            "image/png": "[encoded data removed]"
          },
          "metadata": {}
        }
      ]
    },
    {
      "cell_type": "code",
      "source": [
        "plt.figure(figsize=(10, 6))\n",
        "sns.histplot(data['Amount'], bins=50, kde=True)\n",
        "plt.title('Distribution of Transaction Amounts')\n",
        "plt.xlabel('Amount')\n",
        "plt.ylabel('Frequency')\n",
        "plt.show()"
      ],
      "metadata": {
        "colab": {
          "base_uri": "https://localhost:8080/",
          "height": 422
        },
        "id": "CHuT1RhviTR0",
        "outputId": "fc0263de-b503-434e-9f2a-1396216a4f47"
      },
      "execution_count": 8,
      "outputs": [
        {
          "output_type": "display_data",
          "data": {
            "text/plain": [
              "<Figure size 1000x600 with 1 Axes>"
            ],
            "image/png": "[encoded data removed]"
          },
          "metadata": {}
        }
      ]
    },
    {
      "cell_type": "code",
      "source": [
        "plt.figure(figsize=(10, 6))\n",
        "sns.histplot(data['Time'], bins=50, kde=True)\n",
        "plt.title('Distribution of Transaction Time')\n",
        "plt.xlabel('Time')\n",
        "plt.ylabel('Frequency')\n",
        "plt.show()"
      ],
      "metadata": {
        "colab": {
          "base_uri": "https://localhost:8080/",
          "height": 426
        },
        "id": "nLAHvACCilNl",
        "outputId": "7f7a9255-f336-4b18-c351-f1608b72d689"
      },
      "execution_count": 9,
      "outputs": [
        {
          "output_type": "display_data",
          "data": {
            "text/plain": [
              "<Figure size 1000x600 with 1 Axes>"
            ],
            "image/png": "[encoded data removed]"
          },
          "metadata": {}
        }
      ]
    },
    {
      "cell_type": "code",
      "source": [
        "plt.figure(figsize=(12, 8))\n",
        "correlation_matrix = data.corr()\n",
        "sns.heatmap(correlation_matrix, cmap='coolwarm', annot=False)\n",
        "plt.title('Correlation Matrix')\n",
        "plt.show()"
      ],
      "metadata": {
        "colab": {
          "base_uri": "https://localhost:8080/",
          "height": 507
        },
        "id": "k6sg6ic2iyRG",
        "outputId": "41d6fc21-e5df-4095-86ab-061a138f35e8"
      },
      "execution_count": 10,
      "outputs": [
        {
          "output_type": "display_data",
          "data": {
            "text/plain": [
              "<Figure size 1200x800 with 2 Axes>"
            ],
            "image/png": "[encoded data removed]"
          },
          "metadata": {}
        }
      ]
    },
    {
      "cell_type": "code",
      "source": [
        "plt.figure(figsize=(12, 6))\n",
        "sns.boxplot(x='Class', y='Amount', data=data)\n",
        "plt.title('Box Plot of Amount by Class')\n",
        "plt.show()\n",
        "\n",
        "plt.figure(figsize=(12, 6))\n",
        "sns.boxplot(x='Class', y='Time', data=data)\n",
        "plt.title('Box Plot of Time by Class')\n",
        "plt.show()"
      ],
      "metadata": {
        "colab": {
          "base_uri": "https://localhost:8080/",
          "height": 707
        },
        "id": "4vpMs-HPoiC4",
        "outputId": "1df5665c-5cb4-4720-efd7-0fb883840c8a"
      },
      "execution_count": 11,
      "outputs": [
        {
          "output_type": "display_data",
          "data": {
            "text/plain": [
              "<Figure size 1200x600 with 1 Axes>"
            ],
            "image/png": "[encoded data removed]"
          },
          "metadata": {}
        },
        {
          "output_type": "display_data",
          "data": {
            "text/plain": [
              "<Figure size 1200x600 with 1 Axes>"
            ],
            "image/png": "[encoded data removed]"
          },
          "metadata": {}
        }
      ]
    },
    {
      "cell_type": "code",
      "source": [
        "data['Time']"
      ],
      "metadata": {
        "colab": {
          "base_uri": "https://localhost:8080/"
        },
        "id": "pELsn4cui8qK",
        "outputId": "ad0d7218-b623-4a8a-89a8-4a30bbfcb171"
      },
      "execution_count": 12,
      "outputs": [
        {
          "output_type": "execute_result",
          "data": {
            "text/plain": [
              "0            0\n",
              "1            0\n",
              "2            1\n",
              "3            1\n",
              "4            2\n",
              "         ...  \n",
              "39994    40049\n",
              "39995    40049\n",
              "39996    40049\n",
              "39997    40050\n",
              "39998    40052\n",
              "Name: Time, Length: 39999, dtype: int64"
            ]
          },
          "metadata": {},
          "execution_count": 12
        }
      ]
    },
    {
      "cell_type": "code",
      "source": [
        "data = data.drop('Time', axis=1)"
      ],
      "metadata": {
        "id": "lBe1DgFUjCLO"
      },
      "execution_count": 13,
      "outputs": []
    },
    {
      "cell_type": "code",
      "source": [
        "# Before scaling\n",
        "plt.figure(figsize=(12, 6))\n",
        "sns.histplot(data['Amount'], bins=50, kde=True, color='blue')\n",
        "plt.title('Distribution of Amount (Before Scaling)')\n",
        "plt.xlabel('Amount')\n",
        "plt.ylabel('Frequency')\n",
        "plt.show()"
      ],
      "metadata": {
        "colab": {
          "base_uri": "https://localhost:8080/",
          "height": 361
        },
        "id": "iKNZFKcvqODh",
        "outputId": "b6b28089-f30b-4944-a87f-8b453514937b"
      },
      "execution_count": 14,
      "outputs": [
        {
          "output_type": "display_data",
          "data": {
            "text/plain": [
              "<Figure size 1200x600 with 1 Axes>"
            ],
            "image/png": "[encoded data removed]"
          },
          "metadata": {}
        }
      ]
    },
    {
      "cell_type": "code",
      "source": [
        "from sklearn.preprocessing import StandardScaler\n",
        "\n",
        "# After scaling\n",
        "scaled_amount = StandardScaler().fit_transform(data['Amount'].values.reshape(-1, 1))\n",
        "plt.figure(figsize=(12, 6))\n",
        "sns.histplot(scaled_amount, bins=50, kde=True, color='green')\n",
        "plt.title('Distribution of Standardized Amount (After Scaling)')\n",
        "plt.xlabel('Standardized Amount')\n",
        "plt.ylabel('Frequency')\n",
        "plt.show()"
      ],
      "metadata": {
        "colab": {
          "base_uri": "https://localhost:8080/",
          "height": 361
        },
        "id": "kMC13Daxqcw2",
        "outputId": "6832d98e-af1f-46a8-9bee-f346aeead4cd"
      },
      "execution_count": 15,
      "outputs": [
        {
          "output_type": "display_data",
          "data": {
            "text/plain": [
              "<Figure size 1200x600 with 1 Axes>"
            ],
            "image/png": "[encoded data removed]"
          },
          "metadata": {}
        }
      ]
    },
    {
      "cell_type": "code",
      "source": [
        "amount_range = data['Amount'].describe()\n",
        "\n",
        "print(amount_range)"
      ],
      "metadata": {
        "colab": {
          "base_uri": "https://localhost:8080/"
        },
        "id": "ocl99OOiq8wC",
        "outputId": "128aae71-68e8-4282-e89c-e197e49787f7"
      },
      "execution_count": 16,
      "outputs": [
        {
          "output_type": "stream",
          "name": "stdout",
          "text": [
            "count    39999.000000\n",
            "mean        87.590572\n",
            "std        234.613928\n",
            "min          0.000000\n",
            "25%          7.365000\n",
            "50%         23.660000\n",
            "75%         79.070000\n",
            "max       7879.420000\n",
            "Name: Amount, dtype: float64\n"
          ]
        }
      ]
    },
    {
      "cell_type": "code",
      "source": [
        "data['Amount']"
      ],
      "metadata": {
        "colab": {
          "base_uri": "https://localhost:8080/"
        },
        "id": "KTbxKBEbjcnM",
        "outputId": "0ac49961-3db6-4b23-e94b-2cd411fdcde7"
      },
      "execution_count": 17,
      "outputs": [
        {
          "output_type": "execute_result",
          "data": {
            "text/plain": [
              "0        149.62\n",
              "1          2.69\n",
              "2        378.66\n",
              "3        123.50\n",
              "4         69.99\n",
              "          ...  \n",
              "39994    215.09\n",
              "39995    280.18\n",
              "39996     15.33\n",
              "39997    236.19\n",
              "39998      0.76\n",
              "Name: Amount, Length: 39999, dtype: float64"
            ]
          },
          "metadata": {},
          "execution_count": 17
        }
      ]
    },
    {
      "cell_type": "code",
      "source": [
        "data.duplicated().sum()"
      ],
      "metadata": {
        "colab": {
          "base_uri": "https://localhost:8080/"
        },
        "id": "9d454bHQje8_",
        "outputId": "9d9cf446-1344-4e67-b20e-897ef072f6c8"
      },
      "execution_count": 18,
      "outputs": [
        {
          "output_type": "execute_result",
          "data": {
            "text/plain": [
              "933"
            ]
          },
          "metadata": {},
          "execution_count": 18
        }
      ]
    },
    {
      "cell_type": "code",
      "source": [
        "data = data.drop_duplicates()"
      ],
      "metadata": {
        "id": "XvY0cpwqjlYK"
      },
      "execution_count": 19,
      "outputs": []
    },
    {
      "cell_type": "code",
      "source": [
        "data.duplicated().sum()"
      ],
      "metadata": {
        "colab": {
          "base_uri": "https://localhost:8080/"
        },
        "id": "KvKrtkaJjxAj",
        "outputId": "c194f691-d794-4919-b2c9-dacfb36b768d"
      },
      "execution_count": 20,
      "outputs": [
        {
          "output_type": "execute_result",
          "data": {
            "text/plain": [
              "0"
            ]
          },
          "metadata": {},
          "execution_count": 20
        }
      ]
    },
    {
      "cell_type": "code",
      "source": [
        "data['Class'].value_counts()"
      ],
      "metadata": {
        "colab": {
          "base_uri": "https://localhost:8080/"
        },
        "id": "E8OPB2vLjytv",
        "outputId": "24b54a05-048d-414d-eae1-0216eedb2953"
      },
      "execution_count": 21,
      "outputs": [
        {
          "output_type": "execute_result",
          "data": {
            "text/plain": [
              "0    38962\n",
              "1      104\n",
              "Name: Class, dtype: int64"
            ]
          },
          "metadata": {},
          "execution_count": 21
        }
      ]
    },
    {
      "cell_type": "code",
      "source": [
        "normal_data = data[data['Class'] == 0]\n",
        "fraud_data = data[data['Class'] == 1]"
      ],
      "metadata": {
        "id": "i6HQwz9wj4Ec"
      },
      "execution_count": 22,
      "outputs": []
    },
    {
      "cell_type": "code",
      "source": [
        "from sklearn.model_selection import train_test_split\n",
        "X_train, X_test = train_test_split(normal_data, test_size=0.2, random_state=42)"
      ],
      "metadata": {
        "id": "C1Z87B_Dk5AF"
      },
      "execution_count": 23,
      "outputs": []
    },
    {
      "cell_type": "code",
      "source": [
        "X_test = pd.concat([X_test, fraud_data])"
      ],
      "metadata": {
        "id": "MoYTncI_lDLb"
      },
      "execution_count": 24,
      "outputs": []
    },
    {
      "cell_type": "code",
      "source": [
        "X_test = X_test.sample(frac=1)"
      ],
      "metadata": {
        "id": "xMhSp9RxlIRK"
      },
      "execution_count": 25,
      "outputs": []
    },
    {
      "cell_type": "code",
      "source": [
        "y_train = X_train['Class']\n",
        "X_train = X_train.drop('Class', axis=1)"
      ],
      "metadata": {
        "id": "zPunY34ZlKo_"
      },
      "execution_count": 26,
      "outputs": []
    },
    {
      "cell_type": "code",
      "source": [
        "y_test = X_test['Class']\n",
        "X_test = X_test.drop('Class', axis=1)"
      ],
      "metadata": {
        "id": "HcqAJ7fWlP75"
      },
      "execution_count": 27,
      "outputs": []
    },
    {
      "cell_type": "code",
      "source": [
        "input_dim = X_train.shape[1]\n",
        "encoding_dim = 14"
      ],
      "metadata": {
        "id": "k0-w4eHClRY9"
      },
      "execution_count": 28,
      "outputs": []
    },
    {
      "cell_type": "code",
      "source": [
        "from tensorflow.keras.models import Model, load_model\n",
        "from tensorflow.keras.layers import Input, Dense\n",
        "from tensorflow.keras.callbacks import ModelCheckpoint, TensorBoard\n",
        "from tensorflow.keras import regularizers"
      ],
      "metadata": {
        "id": "CDKvGevaldl4"
      },
      "execution_count": 29,
      "outputs": []
    },
    {
      "cell_type": "code",
      "source": [
        "input_layer = Input(shape=(input_dim,))\n",
        "encoder = Dense(encoding_dim, activation=\"tanh\", activity_regularizer=regularizers.l1(1e-5))(input_layer)\n",
        "encoder = Dense(int(encoding_dim / 2), activation=\"relu\")(encoder)\n",
        "decoder = Dense(int(encoding_dim / 2), activation='tanh')(encoder)\n",
        "decoder = Dense(input_dim, activation='relu')(decoder)\n",
        "autoencoder = Model(inputs=input_layer, outputs=decoder)"
      ],
      "metadata": {
        "id": "zIEc5teglUit"
      },
      "execution_count": 30,
      "outputs": []
    },
    {
      "cell_type": "code",
      "source": [
        "autoencoder.compile(optimizer='adam', loss='mean_squared_error')"
      ],
      "metadata": {
        "id": "wtxtXA8Glh5g"
      },
      "execution_count": 31,
      "outputs": []
    },
    {
      "cell_type": "code",
      "source": [
        "epochs = 50\n",
        "batch_size = 32\n",
        "\n",
        "checkpointer = ModelCheckpoint(filepath=\"model.h5\", verbose=0, save_best_only=True)\n",
        "tensorboard = TensorBoard(log_dir='./logs', histogram_freq=0, write_graph=True, write_images=True)\n",
        "\n",
        "history = autoencoder.fit(X_train, X_train, epochs=epochs, batch_size=batch_size,\n",
        "                          shuffle=True, validation_data=(X_test, X_test),\n",
        "                          verbose=1, callbacks=[checkpointer, tensorboard]).history"
      ],
      "metadata": {
        "colab": {
          "base_uri": "https://localhost:8080/"
        },
        "id": "ivNzLjvOllLJ",
        "outputId": "3573b398-fde5-4006-cf04-148303be4124"
      },
      "execution_count": 32,
      "outputs": [
        {
          "output_type": "stream",
          "name": "stdout",
          "text": [
            "Epoch 1/50\n",
            "975/975 [==============================] - 8s 7ms/step - loss: 2219.5715 - val_loss: 1948.3857\n",
            "Epoch 2/50\n",
            " 35/975 [>.............................] - ETA: 2s - loss: 1498.1833"
          ]
        },
        {
          "output_type": "stream",
          "name": "stderr",
          "text": [
            "/usr/local/lib/python3.10/dist-packages/keras/src/engine/training.py:3079: UserWarning: You are saving your model as an HDF5 file via `model.save()`. This file format is considered legacy. We recommend using instead the native Keras format, e.g. `model.save('my_model.keras')`.\n",
            "  saving_api.save_model(\n"
          ]
        },
        {
          "output_type": "stream",
          "name": "stdout",
          "text": [
            "975/975 [==============================] - 4s 4ms/step - loss: 2178.9299 - val_loss: 1911.9552\n",
            "Epoch 3/50\n",
            "975/975 [==============================] - 2s 2ms/step - loss: 2143.5728 - val_loss: 1877.5138\n",
            "Epoch 4/50\n",
            "975/975 [==============================] - 3s 3ms/step - loss: 2109.9854 - val_loss: 1844.9240\n",
            "Epoch 5/50\n",
            "975/975 [==============================] - 2s 2ms/step - loss: 2078.4280 - val_loss: 1814.1486\n",
            "Epoch 6/50\n",
            "975/975 [==============================] - 2s 2ms/step - loss: 2048.4558 - val_loss: 1784.9698\n",
            "Epoch 7/50\n",
            "975/975 [==============================] - 4s 4ms/step - loss: 2019.8883 - val_loss: 1757.1559\n",
            "Epoch 8/50\n",
            "975/975 [==============================] - 3s 3ms/step - loss: 1992.7446 - val_loss: 1730.5851\n",
            "Epoch 9/50\n",
            "975/975 [==============================] - 3s 3ms/step - loss: 1966.4606 - val_loss: 1704.8171\n",
            "Epoch 10/50\n",
            "975/975 [==============================] - 3s 3ms/step - loss: 1941.2313 - val_loss: 1680.2118\n",
            "Epoch 11/50\n",
            "975/975 [==============================] - 3s 3ms/step - loss: 1916.9506 - val_loss: 1656.5514\n",
            "Epoch 12/50\n",
            "975/975 [==============================] - 4s 4ms/step - loss: 1893.6454 - val_loss: 1633.6497\n",
            "Epoch 13/50\n",
            "975/975 [==============================] - 2s 3ms/step - loss: 1871.0312 - val_loss: 1611.7437\n",
            "Epoch 14/50\n",
            "975/975 [==============================] - 2s 2ms/step - loss: 1849.3145 - val_loss: 1590.4464\n",
            "Epoch 15/50\n",
            "975/975 [==============================] - 2s 2ms/step - loss: 1828.4178 - val_loss: 1570.1301\n",
            "Epoch 16/50\n",
            "975/975 [==============================] - 2s 2ms/step - loss: 1808.1010 - val_loss: 1550.3177\n",
            "Epoch 17/50\n",
            "975/975 [==============================] - 4s 4ms/step - loss: 1788.3513 - val_loss: 1531.0975\n",
            "Epoch 18/50\n",
            "975/975 [==============================] - 3s 3ms/step - loss: 1769.3414 - val_loss: 1512.6036\n",
            "Epoch 19/50\n",
            "975/975 [==============================] - 2s 2ms/step - loss: 1750.9655 - val_loss: 1494.8337\n",
            "Epoch 20/50\n",
            "975/975 [==============================] - 3s 3ms/step - loss: 1733.0549 - val_loss: 1477.3325\n",
            "Epoch 21/50\n",
            "975/975 [==============================] - 2s 2ms/step - loss: 1715.5797 - val_loss: 1460.3367\n",
            "Epoch 22/50\n",
            "975/975 [==============================] - 4s 4ms/step - loss: 1698.7871 - val_loss: 1444.3146\n",
            "Epoch 23/50\n",
            "975/975 [==============================] - 3s 3ms/step - loss: 1682.5544 - val_loss: 1428.9802\n",
            "Epoch 24/50\n",
            "975/975 [==============================] - 2s 2ms/step - loss: 1666.6193 - val_loss: 1412.8328\n",
            "Epoch 25/50\n",
            "975/975 [==============================] - 2s 2ms/step - loss: 1651.0715 - val_loss: 1397.8982\n",
            "Epoch 26/50\n",
            "975/975 [==============================] - 2s 3ms/step - loss: 1635.9181 - val_loss: 1383.0718\n",
            "Epoch 27/50\n",
            "975/975 [==============================] - 3s 3ms/step - loss: 1621.1301 - val_loss: 1368.7292\n",
            "Epoch 28/50\n",
            "975/975 [==============================] - 3s 3ms/step - loss: 1606.6226 - val_loss: 1354.6190\n",
            "Epoch 29/50\n",
            "975/975 [==============================] - 3s 3ms/step - loss: 1592.5750 - val_loss: 1341.1683\n",
            "Epoch 30/50\n",
            "975/975 [==============================] - 2s 2ms/step - loss: 1579.0286 - val_loss: 1328.0149\n",
            "Epoch 31/50\n",
            "975/975 [==============================] - 2s 2ms/step - loss: 1565.6150 - val_loss: 1315.0408\n",
            "Epoch 32/50\n",
            "975/975 [==============================] - 3s 3ms/step - loss: 1552.3363 - val_loss: 1302.0725\n",
            "Epoch 33/50\n",
            "975/975 [==============================] - 4s 4ms/step - loss: 1539.4164 - val_loss: 1289.5504\n",
            "Epoch 34/50\n",
            "975/975 [==============================] - 2s 2ms/step - loss: 1526.6710 - val_loss: 1277.1912\n",
            "Epoch 35/50\n",
            "975/975 [==============================] - 2s 2ms/step - loss: 1514.0630 - val_loss: 1264.9456\n",
            "Epoch 36/50\n",
            "975/975 [==============================] - 2s 2ms/step - loss: 1501.7111 - val_loss: 1253.1378\n",
            "Epoch 37/50\n",
            "975/975 [==============================] - 2s 2ms/step - loss: 1489.8188 - val_loss: 1241.6843\n",
            "Epoch 38/50\n",
            "975/975 [==============================] - 3s 4ms/step - loss: 1478.1986 - val_loss: 1230.5449\n",
            "Epoch 39/50\n",
            "975/975 [==============================] - 3s 3ms/step - loss: 1466.7280 - val_loss: 1219.7751\n",
            "Epoch 40/50\n",
            "975/975 [==============================] - 3s 3ms/step - loss: 1455.5929 - val_loss: 1208.7190\n",
            "Epoch 41/50\n",
            "975/975 [==============================] - 3s 3ms/step - loss: 1444.6288 - val_loss: 1198.3890\n",
            "Epoch 42/50\n",
            "975/975 [==============================] - 3s 3ms/step - loss: 1433.7845 - val_loss: 1187.7899\n",
            "Epoch 43/50\n",
            "975/975 [==============================] - 4s 4ms/step - loss: 1423.3289 - val_loss: 1177.8438\n",
            "Epoch 44/50\n",
            "975/975 [==============================] - 3s 3ms/step - loss: 1413.0709 - val_loss: 1167.7704\n",
            "Epoch 45/50\n",
            "975/975 [==============================] - 3s 3ms/step - loss: 1402.8203 - val_loss: 1158.0155\n",
            "Epoch 46/50\n",
            "975/975 [==============================] - 2s 2ms/step - loss: 1392.8070 - val_loss: 1151.6609\n",
            "Epoch 47/50\n",
            "975/975 [==============================] - 2s 2ms/step - loss: 1383.0459 - val_loss: 1138.9637\n",
            "Epoch 48/50\n",
            "975/975 [==============================] - 4s 4ms/step - loss: 1373.4022 - val_loss: 1129.6985\n",
            "Epoch 49/50\n",
            "975/975 [==============================] - 3s 3ms/step - loss: 1363.9581 - val_loss: 1120.5348\n",
            "Epoch 50/50\n",
            "975/975 [==============================] - 2s 2ms/step - loss: 1354.9611 - val_loss: 1112.0718\n"
          ]
        }
      ]
    },
    {
      "cell_type": "code",
      "source": [
        "import numpy as np\n",
        "autoencoder = load_model('model.h5')\n",
        "\n",
        "predictions = autoencoder.predict(X_test)\n",
        "mse = np.mean(np.power(X_test - predictions, 2), axis=1)\n",
        "error_df = pd.DataFrame({'Reconstruction_error': mse, 'True_class': y_test})"
      ],
      "metadata": {
        "colab": {
          "base_uri": "https://localhost:8080/"
        },
        "id": "xqP0eOC7lrQQ",
        "outputId": "db9f73e2-db5a-4b80-de92-ba6c6918d377"
      },
      "execution_count": 33,
      "outputs": [
        {
          "output_type": "stream",
          "name": "stdout",
          "text": [
            "247/247 [==============================] - 0s 2ms/step\n"
          ]
        }
      ]
    },
    {
      "cell_type": "code",
      "source": [
        "error_df"
      ],
      "metadata": {
        "colab": {
          "base_uri": "https://localhost:8080/",
          "height": 423
        },
        "id": "lbAhzbdW5wUU",
        "outputId": "08a718a4-83a7-43b5-d14d-bab7b4e1b6bb"
      },
      "execution_count": 34,
      "outputs": [
        {
          "output_type": "execute_result",
          "data": {
            "text/plain": [
              "       Reconstruction_error  True_class\n",
              "12373              0.957887           0\n",
              "23071              0.187937           0\n",
              "10559              1.382763           0\n",
              "17628              0.650572           0\n",
              "13366              3.660117           0\n",
              "...                     ...         ...\n",
              "6590               6.584293           0\n",
              "34442              0.170271           0\n",
              "1528               0.421066           0\n",
              "6338              10.694149           1\n",
              "32031              0.700835           0\n",
              "\n",
              "[7897 rows x 2 columns]"
            ],
            "text/html": [
              "\n",
              "  <div id=\"df-2cbd2358-9b64-4478-a093-0cb938f95f16\" class=\"colab-df-container\">\n",
              "    <div>\n",
              "<style scoped>\n",
              "    .dataframe tbody tr th:only-of-type {\n",
              "        vertical-align: middle;\n",
              "    }\n",
              "\n",
              "    .dataframe tbody tr th {\n",
              "        vertical-align: top;\n",
              "    }\n",
              "\n",
              "    .dataframe thead th {\n",
              "        text-align: right;\n",
              "    }\n",
              "</style>\n",
              "<table border=\"1\" class=\"dataframe\">\n",
              "  <thead>\n",
              "    <tr style=\"text-align: right;\">\n",
              "      <th></th>\n",
              "      <th>Reconstruction_error</th>\n",
              "      <th>True_class</th>\n",
              "    </tr>\n",
              "  </thead>\n",
              "  <tbody>\n",
              "    <tr>\n",
              "      <th>12373</th>\n",
              "      <td>0.957887</td>\n",
              "      <td>0</td>\n",
              "    </tr>\n",
              "    <tr>\n",
              "      <th>23071</th>\n",
              "      <td>0.187937</td>\n",
              "      <td>0</td>\n",
              "    </tr>\n",
              "    <tr>\n",
              "      <th>10559</th>\n",
              "      <td>1.382763</td>\n",
              "      <td>0</td>\n",
              "    </tr>\n",
              "    <tr>\n",
              "      <th>17628</th>\n",
              "      <td>0.650572</td>\n",
              "      <td>0</td>\n",
              "    </tr>\n",
              "    <tr>\n",
              "      <th>13366</th>\n",
              "      <td>3.660117</td>\n",
              "      <td>0</td>\n",
              "    </tr>\n",
              "    <tr>\n",
              "      <th>...</th>\n",
              "      <td>...</td>\n",
              "      <td>...</td>\n",
              "    </tr>\n",
              "    <tr>\n",
              "      <th>6590</th>\n",
              "      <td>6.584293</td>\n",
              "      <td>0</td>\n",
              "    </tr>\n",
              "    <tr>\n",
              "      <th>34442</th>\n",
              "      <td>0.170271</td>\n",
              "      <td>0</td>\n",
              "    </tr>\n",
              "    <tr>\n",
              "      <th>1528</th>\n",
              "      <td>0.421066</td>\n",
              "      <td>0</td>\n",
              "    </tr>\n",
              "    <tr>\n",
              "      <th>6338</th>\n",
              "      <td>10.694149</td>\n",
              "      <td>1</td>\n",
              "    </tr>\n",
              "    <tr>\n",
              "      <th>32031</th>\n",
              "      <td>0.700835</td>\n",
              "      <td>0</td>\n",
              "    </tr>\n",
              "  </tbody>\n",
              "</table>\n",
              "<p>7897 rows × 2 columns</p>\n",
              "</div>\n",
              "    <div class=\"colab-df-buttons\">\n",
              "\n",
              "  <div class=\"colab-df-container\">\n",
              "    <button class=\"colab-df-convert\" onclick=\"convertToInteractive('df-2cbd2358-9b64-4478-a093-0cb938f95f16')\"\n",
              "            title=\"Convert this dataframe to an interactive table.\"\n",
              "            style=\"display:none;\">\n",
              "\n",
              "  <svg xmlns=\"http://www.w3.org/2000/svg\" height=\"24px\" viewBox=\"0 -960 960 960\">\n",
              "    <path d=\"M120-120v-720h720v720H120Zm60-500h600v-160H180v160Zm220 220h160v-160H400v160Zm0 220h160v-160H400v160ZM180-400h160v-160H180v160Zm440 0h160v-160H620v160ZM180-180h160v-160H180v160Zm440 0h160v-160H620v160Z\"/>\n",
              "  </svg>\n",
              "    </button>\n",
              "\n",
              "  <style>\n",
              "    .colab-df-container {\n",
              "      display:flex;\n",
              "      gap: 12px;\n",
              "    }\n",
              "\n",
              "    .colab-df-convert {\n",
              "      background-color: #E8F0FE;\n",
              "      border: none;\n",
              "      border-radius: 50%;\n",
              "      cursor: pointer;\n",
              "      display: none;\n",
              "      fill: #1967D2;\n",
              "      height: 32px;\n",
              "      padding: 0 0 0 0;\n",
              "      width: 32px;\n",
              "    }\n",
              "\n",
              "    .colab-df-convert:hover {\n",
              "      background-color: #E2EBFA;\n",
              "      box-shadow: 0px 1px 2px rgba(60, 64, 67, 0.3), 0px 1px 3px 1px rgba(60, 64, 67, 0.15);\n",
              "      fill: #174EA6;\n",
              "    }\n",
              "\n",
              "    .colab-df-buttons div {\n",
              "      margin-bottom: 4px;\n",
              "    }\n",
              "\n",
              "    [theme=dark] .colab-df-convert {\n",
              "      background-color: #3B4455;\n",
              "      fill: #D2E3FC;\n",
              "    }\n",
              "\n",
              "    [theme=dark] .colab-df-convert:hover {\n",
              "      background-color: #434B5C;\n",
              "      box-shadow: 0px 1px 3px 1px rgba(0, 0, 0, 0.15);\n",
              "      filter: drop-shadow(0px 1px 2px rgba(0, 0, 0, 0.3));\n",
              "      fill: #FFFFFF;\n",
              "    }\n",
              "  </style>\n",
              "\n",
              "    <script>\n",
              "      const buttonEl =\n",
              "        document.querySelector('#df-2cbd2358-9b64-4478-a093-0cb938f95f16 button.colab-df-convert');\n",
              "      buttonEl.style.display =\n",
              "        google.colab.kernel.accessAllowed ? 'block' : 'none';\n",
              "\n",
              "      async function convertToInteractive(key) {\n",
              "        const element = document.querySelector('#df-2cbd2358-9b64-4478-a093-0cb938f95f16');\n",
              "        const dataTable =\n",
              "          await google.colab.kernel.invokeFunction('convertToInteractive',\n",
              "                                                    [key], {});\n",
              "        if (!dataTable) return;\n",
              "\n",
              "        const docLinkHtml = 'Like what you see? Visit the ' +\n",
              "          '<a target=\"_blank\" href=https://colab.research.google.com/notebooks/data_table.ipynb>data table notebook</a>'\n",
              "          + ' to learn more about interactive tables.';\n",
              "        element.innerHTML = '';\n",
              "        dataTable['output_type'] = 'display_data';\n",
              "        await google.colab.output.renderOutput(dataTable, element);\n",
              "        const docLink = document.createElement('div');\n",
              "        docLink.innerHTML = docLinkHtml;\n",
              "        element.appendChild(docLink);\n",
              "      }\n",
              "    </script>\n",
              "  </div>\n",
              "\n",
              "\n",
              "<div id=\"df-48155b85-cb8b-4865-b81a-a31cc1bf6279\">\n",
              "  <button class=\"colab-df-quickchart\" onclick=\"quickchart('df-48155b85-cb8b-4865-b81a-a31cc1bf6279')\"\n",
              "            title=\"Suggest charts\"\n",
              "            style=\"display:none;\">\n",
              "\n",
              "<svg xmlns=\"http://www.w3.org/2000/svg\" height=\"24px\"viewBox=\"0 0 24 24\"\n",
              "     width=\"24px\">\n",
              "    <g>\n",
              "        <path d=\"M19 3H5c-1.1 0-2 .9-2 2v14c0 1.1.9 2 2 2h14c1.1 0 2-.9 2-2V5c0-1.1-.9-2-2-2zM9 17H7v-7h2v7zm4 0h-2V7h2v10zm4 0h-2v-4h2v4z\"/>\n",
              "    </g>\n",
              "</svg>\n",
              "  </button>\n",
              "\n",
              "<style>\n",
              "  .colab-df-quickchart {\n",
              "      --bg-color: #E8F0FE;\n",
              "      --fill-color: #1967D2;\n",
              "      --hover-bg-color: #E2EBFA;\n",
              "      --hover-fill-color: #174EA6;\n",
              "      --disabled-fill-color: #AAA;\n",
              "      --disabled-bg-color: #DDD;\n",
              "  }\n",
              "\n",
              "  [theme=dark] .colab-df-quickchart {\n",
              "      --bg-color: #3B4455;\n",
              "      --fill-color: #D2E3FC;\n",
              "      --hover-bg-color: #434B5C;\n",
              "      --hover-fill-color: #FFFFFF;\n",
              "      --disabled-bg-color: #3B4455;\n",
              "      --disabled-fill-color: #666;\n",
              "  }\n",
              "\n",
              "  .colab-df-quickchart {\n",
              "    background-color: var(--bg-color);\n",
              "    border: none;\n",
              "    border-radius: 50%;\n",
              "    cursor: pointer;\n",
              "    display: none;\n",
              "    fill: var(--fill-color);\n",
              "    height: 32px;\n",
              "    padding: 0;\n",
              "    width: 32px;\n",
              "  }\n",
              "\n",
              "  .colab-df-quickchart:hover {\n",
              "    background-color: var(--hover-bg-color);\n",
              "    box-shadow: 0 1px 2px rgba(60, 64, 67, 0.3), 0 1px 3px 1px rgba(60, 64, 67, 0.15);\n",
              "    fill: var(--button-hover-fill-color);\n",
              "  }\n",
              "\n",
              "  .colab-df-quickchart-complete:disabled,\n",
              "  .colab-df-quickchart-complete:disabled:hover {\n",
              "    background-color: var(--disabled-bg-color);\n",
              "    fill: var(--disabled-fill-color);\n",
              "    box-shadow: none;\n",
              "  }\n",
              "\n",
              "  .colab-df-spinner {\n",
              "    border: 2px solid var(--fill-color);\n",
              "    border-color: transparent;\n",
              "    border-bottom-color: var(--fill-color);\n",
              "    animation:\n",
              "      spin 1s steps(1) infinite;\n",
              "  }\n",
              "\n",
              "  @keyframes spin {\n",
              "    0% {\n",
              "      border-color: transparent;\n",
              "      border-bottom-color: var(--fill-color);\n",
              "      border-left-color: var(--fill-color);\n",
              "    }\n",
              "    20% {\n",
              "      border-color: transparent;\n",
              "      border-left-color: var(--fill-color);\n",
              "      border-top-color: var(--fill-color);\n",
              "    }\n",
              "    30% {\n",
              "      border-color: transparent;\n",
              "      border-left-color: var(--fill-color);\n",
              "      border-top-color: var(--fill-color);\n",
              "      border-right-color: var(--fill-color);\n",
              "    }\n",
              "    40% {\n",
              "      border-color: transparent;\n",
              "      border-right-color: var(--fill-color);\n",
              "      border-top-color: var(--fill-color);\n",
              "    }\n",
              "    60% {\n",
              "      border-color: transparent;\n",
              "      border-right-color: var(--fill-color);\n",
              "    }\n",
              "    80% {\n",
              "      border-color: transparent;\n",
              "      border-right-color: var(--fill-color);\n",
              "      border-bottom-color: var(--fill-color);\n",
              "    }\n",
              "    90% {\n",
              "      border-color: transparent;\n",
              "      border-bottom-color: var(--fill-color);\n",
              "    }\n",
              "  }\n",
              "</style>\n",
              "\n",
              "  <script>\n",
              "    async function quickchart(key) {\n",
              "      const quickchartButtonEl =\n",
              "        document.querySelector('#' + key + ' button');\n",
              "      quickchartButtonEl.disabled = true;  // To prevent multiple clicks.\n",
              "      quickchartButtonEl.classList.add('colab-df-spinner');\n",
              "      try {\n",
              "        const charts = await google.colab.kernel.invokeFunction(\n",
              "            'suggestCharts', [key], {});\n",
              "      } catch (error) {\n",
              "        console.error('Error during call to suggestCharts:', error);\n",
              "      }\n",
              "      quickchartButtonEl.classList.remove('colab-df-spinner');\n",
              "      quickchartButtonEl.classList.add('colab-df-quickchart-complete');\n",
              "    }\n",
              "    (() => {\n",
              "      let quickchartButtonEl =\n",
              "        document.querySelector('#df-48155b85-cb8b-4865-b81a-a31cc1bf6279 button');\n",
              "      quickchartButtonEl.style.display =\n",
              "        google.colab.kernel.accessAllowed ? 'block' : 'none';\n",
              "    })();\n",
              "  </script>\n",
              "</div>\n",
              "    </div>\n",
              "  </div>\n"
            ]
          },
          "metadata": {},
          "execution_count": 34
        }
      ]
    },
    {
      "cell_type": "code",
      "source": [
        "from sklearn.metrics import confusion_matrix, precision_recall_curve\n",
        "\n",
        "precision, recall, thresholds = precision_recall_curve(error_df['True_class'], error_df['Reconstruction_error'])\n",
        "plt.plot(recall, precision, label='Precision-Recall curve')\n",
        "plt.xlabel('Recall')\n",
        "plt.ylabel('Precision')\n",
        "plt.title('Precision-Recall Curve')\n",
        "plt.legend(loc='best')\n",
        "plt.show()"
      ],
      "metadata": {
        "colab": {
          "base_uri": "https://localhost:8080/",
          "height": 472
        },
        "id": "w-RgEOa7miyx",
        "outputId": "3bcab560-2874-457e-c2e0-461d00169cfc"
      },
      "execution_count": 35,
      "outputs": [
        {
          "output_type": "display_data",
          "data": {
            "text/plain": [
              "<Figure size 640x480 with 1 Axes>"
            ],
            "image/png": "[encoded data removed]"
          },
          "metadata": {}
        }
      ]
    },
    {
      "cell_type": "code",
      "source": [
        "threshold = 2.9  # You can adjust this threshold based on the Precision-Recall curve\n",
        "\n",
        "y_pred = [1 if e > threshold else 0 for e in error_df['Reconstruction_error']]\n",
        "conf_matrix = confusion_matrix(error_df['True_class'], y_pred)"
      ],
      "metadata": {
        "id": "TKRdxyBsmqvs"
      },
      "execution_count": 36,
      "outputs": []
    },
    {
      "cell_type": "code",
      "source": [
        "sns.heatmap(conf_matrix, annot=True, fmt=\"d\")\n",
        "plt.title('Confusion Matrix')\n",
        "plt.xlabel('Predicted')\n",
        "plt.ylabel('Actual')\n",
        "plt.show()"
      ],
      "metadata": {
        "colab": {
          "base_uri": "https://localhost:8080/",
          "height": 472
        },
        "id": "t_qnLShim7Qs",
        "outputId": "1834184d-f756-4faf-ed74-6f2033bbfcb3"
      },
      "execution_count": 37,
      "outputs": [
        {
          "output_type": "display_data",
          "data": {
            "text/plain": [
              "<Figure size 640x480 with 2 Axes>"
            ],
            "image/png": "[encoded data removed]"
          },
          "metadata": {}
        }
      ]
    },
    {
      "cell_type": "code",
      "source": [
        "from sklearn.metrics import auc\n",
        "\n",
        "# Calculate precision and recall\n",
        "precision, recall, _ = precision_recall_curve(error_df['True_class'], error_df['Reconstruction_error'])\n",
        "\n",
        "# Calculate AUC-PR\n",
        "auc_pr = auc(recall, precision)\n",
        "\n",
        "print(f'AUC-PR: {auc_pr}')"
      ],
      "metadata": {
        "colab": {
          "base_uri": "https://localhost:8080/"
        },
        "id": "SFj-8b9fm9fp",
        "outputId": "58bd95a9-ae92-4616-f4cd-f3da5da91471"
      },
      "execution_count": 38,
      "outputs": [
        {
          "output_type": "stream",
          "name": "stdout",
          "text": [
            "AUC-PR: 0.07615800171186586\n"
          ]
        }
      ]
    },
    {
      "cell_type": "code",
      "source": [
        "# Predictor\n",
        "# Assuming you have already trained the model and loaded it\n",
        "autoencoder = load_model('model.h5')\n",
        "\n",
        "# Assuming X_test is your test set without the 'Class' column\n",
        "# X_test = ...\n",
        "\n",
        "# Make predictions on the test set\n",
        "predictions = autoencoder.predict(X_test)\n",
        "\n",
        "# Calculate the mean squared error (reconstruction error) for each sample\n",
        "mse = np.mean(np.power(X_test - predictions, 2), axis=1)\n",
        "\n",
        "# Create a DataFrame to store the reconstruction errors and true class labels\n",
        "error_df = pd.DataFrame({'Reconstruction_error': mse, 'True_class': y_test})\n",
        "\n",
        "# Set a threshold for anomaly detection\n",
        "threshold = 2.9  # You can adjust this threshold based on the Precision-Recall curve\n",
        "\n",
        "# Make predictions based on the threshold\n",
        "y_pred = [1 if e > threshold else 0 for e in error_df['Reconstruction_error']]\n",
        "\n",
        "# Compare the true class labels with predicted labels\n",
        "result_df = pd.DataFrame({'True_class': y_test, 'Predicted_class': y_pred})\n",
        "print(result_df)"
      ],
      "metadata": {
        "colab": {
          "base_uri": "https://localhost:8080/"
        },
        "id": "W0BfxDXinPyt",
        "outputId": "70646fdb-061d-4f57-f40a-f55e8ef3c09a"
      },
      "execution_count": 39,
      "outputs": [
        {
          "output_type": "stream",
          "name": "stdout",
          "text": [
            "247/247 [==============================] - 0s 2ms/step\n",
            "       True_class  Predicted_class\n",
            "12373           0                0\n",
            "23071           0                0\n",
            "10559           0                0\n",
            "17628           0                0\n",
            "13366           0                1\n",
            "...           ...              ...\n",
            "6590            0                1\n",
            "34442           0                0\n",
            "1528            0                0\n",
            "6338            1                1\n",
            "32031           0                0\n",
            "\n",
            "[7897 rows x 2 columns]\n"
          ]
        }
      ]
    },
    {
      "cell_type": "code",
      "source": [
        "from sklearn.metrics import accuracy_score\n",
        "\n",
        "# Assuming you have already made predictions and have a DataFrame 'result_df'\n",
        "# result_df = ...\n",
        "\n",
        "# Calculate accuracy\n",
        "accuracy = accuracy_score(result_df['True_class'], result_df['Predicted_class'])\n",
        "\n",
        "print(f'Accuracy: {accuracy * 100:.2f}%')"
      ],
      "metadata": {
        "colab": {
          "base_uri": "https://localhost:8080/"
        },
        "id": "hdSaAqOgngtZ",
        "outputId": "9396a4a1-9a97-4472-fece-8613fcd73f03"
      },
      "execution_count": 40,
      "outputs": [
        {
          "output_type": "stream",
          "name": "stdout",
          "text": [
            "Accuracy: 87.06%\n"
          ]
        }
      ]
    },
    {
      "cell_type": "code",
      "source": [],
      "metadata": {
        "id": "5X4f_o0AoFNu"
      },
      "execution_count": 40,
      "outputs": []
    }
  ]
}